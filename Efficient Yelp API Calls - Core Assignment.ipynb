{
 "cells": [
  {
   "cell_type": "markdown",
   "id": "c19edb00",
   "metadata": {},
   "source": [
    "# Efficient Yelp API Calls - Core Assignment"
   ]
  },
  {
   "cell_type": "markdown",
   "id": "266d88ba",
   "metadata": {},
   "source": [
    "## Imports"
   ]
  },
  {
   "cell_type": "code",
   "execution_count": 1,
   "id": "62c0bc33",
   "metadata": {},
   "outputs": [],
   "source": [
    "# Standard Imports\n",
    "import numpy as np\n",
    "import pandas as pd\n",
    "# Additional Imports\n",
    "import os, json, math, time\n",
    "from yelpapi import YelpAPI\n",
    "from tqdm.notebook import tqdm_notebook"
   ]
  },
  {
   "cell_type": "code",
   "execution_count": 2,
   "id": "338e1417",
   "metadata": {},
   "outputs": [
    {
     "data": {
      "text/plain": [
       "dict_keys(['client-id', 'api-key'])"
      ]
     },
     "execution_count": 2,
     "metadata": {},
     "output_type": "execute_result"
    }
   ],
   "source": [
    "with open('/Users/klein/.secret/yelp_api.json') as f:\n",
    "    login = json.load(f)\n",
    "login.keys()"
   ]
  },
  {
   "cell_type": "code",
   "execution_count": 3,
   "id": "85b27e71",
   "metadata": {},
   "outputs": [
    {
     "data": {
      "text/plain": [
       "<yelpapi.yelpapi.YelpAPI at 0x22f892fc6d0>"
      ]
     },
     "execution_count": 3,
     "metadata": {},
     "output_type": "execute_result"
    }
   ],
   "source": [
    "yelp_api = YelpAPI(login['api-key'], timeout_s=5.0)\n",
    "yelp_api"
   ]
  },
  {
   "cell_type": "code",
   "execution_count": 4,
   "id": "d637cb3e",
   "metadata": {},
   "outputs": [],
   "source": [
    "def create_json_file(JSON_FILE, delete_if_exists=False):\n",
    "\n",
    "    ## Check if JSON_FILE exists\n",
    "    file_exists = os.path.isfile(JSON_FILE)\n",
    "\n",
    "    # If file DOES exist:\n",
    "    if file_exists == True:\n",
    "\n",
    "        # Check if user wants to delete is exists\n",
    "        if delete_if_exists==True:\n",
    "\n",
    "            print(f'[!] {JSON_FILE} already exists. Deleting previous file...')\n",
    "            # Delete file and confirm it no longer exists\n",
    "            os.remove(JSON_FILE)\n",
    "            # recursive call to function after old file deleted\n",
    "            create_json_file(JSON_FILE, delete_if_exists=False)\n",
    "        else:\n",
    "            print(f'[i] {JSON_FILE} already exists.')\n",
    "\n",
    "    # If file does NOT exist:\n",
    "    else:\n",
    "\n",
    "        # Inform user and save empty list\n",
    "        print(f'[i] {JSON_FILE} not found. Saving empty list to new file.')\n",
    "\n",
    "        ## Create any needed folders\n",
    "        # Get folder name only\n",
    "        folder = os.path.dirname(JSON_FILE)\n",
    "\n",
    "        # If JSON_FILE included a folder\n",
    "        if len(folder)>0:\n",
    "            # Create the folder\n",
    "            os.makedirs(folder, exist_ok=True)\n",
    "        # Save empty list to start the json file\n",
    "        with open(JSON_FILE, 'w') as f:\n",
    "            json.dump([], f)"
   ]
  },
  {
   "cell_type": "code",
   "execution_count": 5,
   "id": "f0b3611e",
   "metadata": {},
   "outputs": [],
   "source": [
    "# Specify JSON_FILE filename\n",
    "# Include search terms in the filename\n",
    "JSON_FILE = 'Data/results_in_progress_SA_pizza.json'\n",
    "\n",
    "# Set API call parameters\n",
    "LOCATION = 'San Antonio, TX'\n",
    "TERM = 'Pizza'"
   ]
  },
  {
   "cell_type": "code",
   "execution_count": 6,
   "id": "bd1d96de",
   "metadata": {},
   "outputs": [
    {
     "name": "stdout",
     "output_type": "stream",
     "text": [
      "[!] Data/results_in_progress_SA_pizza.json already exists. Deleting previous file...\n",
      "[i] Data/results_in_progress_SA_pizza.json not found. Saving empty list to new file.\n",
      "- 0 previous results found.\n",
      "There were 1300 total results found, including any duplicates.\n",
      "We would need 65 pages to display all results.\n"
     ]
    }
   ],
   "source": [
    "# Create a new empty json file (explicitly delete the previous if it exists)\n",
    "create_json_file(JSON_FILE, delete_if_exists=True)\n",
    "# Load previous results (should now be zero) and use len of results for offset\n",
    "with open(JSON_FILE, 'r') as f:\n",
    "    previous_results = json.load(f)\n",
    "\n",
    "# Set offset based on previous results\n",
    "n_results = len(previous_results) # Use this for the offset\n",
    "print(f'- {n_results} previous results found.')\n",
    "\n",
    "## Performing the API call\n",
    "# Use our yelp_api variable's search_query method to perform our API call\n",
    "results = yelp_api.search_query(location=LOCATION,\n",
    "                                term=TERM,\n",
    "                                offset=n_results)\n",
    "# How many results in total?\n",
    "total_results = results['total']\n",
    "print(f'There were {total_results} total results found, including any duplicates.') \n",
    "# There should be zero results at this point, as we have a fresh file.\n",
    "\n",
    "# How many results did we get details for in a single page?\n",
    "results_per_page = len(results['businesses'])\n",
    "# Use math.ceil to round up for the total required number of pages of results\n",
    "n_pages = math.ceil((results['total'] - n_results) / results_per_page)\n",
    "print(f'We would need {n_pages} pages to display all results.')"
   ]
  },
  {
   "cell_type": "code",
   "execution_count": 7,
   "id": "b1429be7",
   "metadata": {},
   "outputs": [
    {
     "data": {
      "application/vnd.jupyter.widget-view+json": {
       "model_id": "92c0d54dc35248e680a29945fbf0d895",
       "version_major": 2,
       "version_minor": 0
      },
      "text/plain": [
       "  0%|          | 0/65 [00:00<?, ?it/s]"
      ]
     },
     "metadata": {},
     "output_type": "display_data"
    },
    {
     "name": "stdout",
     "output_type": "stream",
     "text": [
      "Exceeded 1000 api calls. Stopping loop.\n"
     ]
    }
   ],
   "source": [
    "for i in tqdm_notebook(range(1, n_pages+1)):\n",
    "\n",
    "    ## PROGRESS OF QUERY SO FAR\n",
    "    # Read in results in progess file and check length\n",
    "    with open(JSON_FILE, 'r') as f:\n",
    "        previous_results = json.load(f)\n",
    "    # Save number of results to use as offset\n",
    "    n_results = len(previous_results)\n",
    "    # Stop query if it would cause an error\n",
    "    if (n_results + results_per_page) > 1000:\n",
    "        print('Exceeded 1000 api calls. Stopping loop.')\n",
    "        break\n",
    "\n",
    "    ## ADDING TO FILE WITH NEXT PAGE OF QUERY RESULTS\n",
    "    # Use n_results as the offset\n",
    "    results = yelp_api.search_query(location=LOCATION,\n",
    "                                    term=TERM,\n",
    "                                    offset=n_results)\n",
    "    # Append new results and save to file\n",
    "    previous_results.extend(results['businesses'])\n",
    "    # Display previous_results\n",
    "    with open(JSON_FILE, 'w') as f:\n",
    "        json.dump(previous_results, f)\n",
    "\n",
    "    time.sleep(0.1)"
   ]
  },
  {
   "cell_type": "code",
   "execution_count": 8,
   "id": "3062ba09",
   "metadata": {},
   "outputs": [
    {
     "data": {
      "text/html": [
       "<div>\n",
       "<style scoped>\n",
       "    .dataframe tbody tr th:only-of-type {\n",
       "        vertical-align: middle;\n",
       "    }\n",
       "\n",
       "    .dataframe tbody tr th {\n",
       "        vertical-align: top;\n",
       "    }\n",
       "\n",
       "    .dataframe thead th {\n",
       "        text-align: right;\n",
       "    }\n",
       "</style>\n",
       "<table border=\"1\" class=\"dataframe\">\n",
       "  <thead>\n",
       "    <tr style=\"text-align: right;\">\n",
       "      <th></th>\n",
       "      <th>id</th>\n",
       "      <th>alias</th>\n",
       "      <th>name</th>\n",
       "      <th>image_url</th>\n",
       "      <th>is_closed</th>\n",
       "      <th>url</th>\n",
       "      <th>review_count</th>\n",
       "      <th>categories</th>\n",
       "      <th>rating</th>\n",
       "      <th>coordinates</th>\n",
       "      <th>transactions</th>\n",
       "      <th>price</th>\n",
       "      <th>location</th>\n",
       "      <th>phone</th>\n",
       "      <th>display_phone</th>\n",
       "      <th>distance</th>\n",
       "    </tr>\n",
       "  </thead>\n",
       "  <tbody>\n",
       "    <tr>\n",
       "      <th>0</th>\n",
       "      <td>mE8oeT-264q0MRKhVo7j8A</td>\n",
       "      <td>dough-pizzeria-napoletana-san-antonio</td>\n",
       "      <td>Dough Pizzeria Napoletana</td>\n",
       "      <td>https://s3-media2.fl.yelpcdn.com/bphoto/nMZExv...</td>\n",
       "      <td>False</td>\n",
       "      <td>https://www.yelp.com/biz/dough-pizzeria-napole...</td>\n",
       "      <td>1812</td>\n",
       "      <td>[{'alias': 'pizza', 'title': 'Pizza'}, {'alias...</td>\n",
       "      <td>4.0</td>\n",
       "      <td>{'latitude': 29.5195143, 'longitude': -98.5069...</td>\n",
       "      <td>[pickup, delivery]</td>\n",
       "      <td>$$</td>\n",
       "      <td>{'address1': '6989 Blanco Rd', 'address2': '',...</td>\n",
       "      <td>+12109796565</td>\n",
       "      <td>(210) 979-6565</td>\n",
       "      <td>2850.666555</td>\n",
       "    </tr>\n",
       "    <tr>\n",
       "      <th>1</th>\n",
       "      <td>OeLJy69rYAb0Rq0feRl2yw</td>\n",
       "      <td>pizza-break-san-antonio</td>\n",
       "      <td>Pizza Break</td>\n",
       "      <td>https://s3-media2.fl.yelpcdn.com/bphoto/HMabaZ...</td>\n",
       "      <td>False</td>\n",
       "      <td>https://www.yelp.com/biz/pizza-break-san-anton...</td>\n",
       "      <td>17</td>\n",
       "      <td>[{'alias': 'tradamerican', 'title': 'American'...</td>\n",
       "      <td>4.5</td>\n",
       "      <td>{'latitude': 29.5516345, 'longitude': -98.5117...</td>\n",
       "      <td>[pickup, delivery]</td>\n",
       "      <td>NaN</td>\n",
       "      <td>{'address1': '12072 Blanco Rd', 'address2': 'S...</td>\n",
       "      <td>+12107018086</td>\n",
       "      <td>(210) 701-8086</td>\n",
       "      <td>6365.084721</td>\n",
       "    </tr>\n",
       "  </tbody>\n",
       "</table>\n",
       "</div>"
      ],
      "text/plain": [
       "                       id                                  alias  \\\n",
       "0  mE8oeT-264q0MRKhVo7j8A  dough-pizzeria-napoletana-san-antonio   \n",
       "1  OeLJy69rYAb0Rq0feRl2yw                pizza-break-san-antonio   \n",
       "\n",
       "                        name  \\\n",
       "0  Dough Pizzeria Napoletana   \n",
       "1                Pizza Break   \n",
       "\n",
       "                                           image_url  is_closed  \\\n",
       "0  https://s3-media2.fl.yelpcdn.com/bphoto/nMZExv...      False   \n",
       "1  https://s3-media2.fl.yelpcdn.com/bphoto/HMabaZ...      False   \n",
       "\n",
       "                                                 url  review_count  \\\n",
       "0  https://www.yelp.com/biz/dough-pizzeria-napole...          1812   \n",
       "1  https://www.yelp.com/biz/pizza-break-san-anton...            17   \n",
       "\n",
       "                                          categories  rating  \\\n",
       "0  [{'alias': 'pizza', 'title': 'Pizza'}, {'alias...     4.0   \n",
       "1  [{'alias': 'tradamerican', 'title': 'American'...     4.5   \n",
       "\n",
       "                                         coordinates        transactions  \\\n",
       "0  {'latitude': 29.5195143, 'longitude': -98.5069...  [pickup, delivery]   \n",
       "1  {'latitude': 29.5516345, 'longitude': -98.5117...  [pickup, delivery]   \n",
       "\n",
       "  price                                           location         phone  \\\n",
       "0    $$  {'address1': '6989 Blanco Rd', 'address2': '',...  +12109796565   \n",
       "1   NaN  {'address1': '12072 Blanco Rd', 'address2': 'S...  +12107018086   \n",
       "\n",
       "    display_phone     distance  \n",
       "0  (210) 979-6565  2850.666555  \n",
       "1  (210) 701-8086  6365.084721  "
      ]
     },
     "metadata": {},
     "output_type": "display_data"
    },
    {
     "data": {
      "text/html": [
       "<div>\n",
       "<style scoped>\n",
       "    .dataframe tbody tr th:only-of-type {\n",
       "        vertical-align: middle;\n",
       "    }\n",
       "\n",
       "    .dataframe tbody tr th {\n",
       "        vertical-align: top;\n",
       "    }\n",
       "\n",
       "    .dataframe thead th {\n",
       "        text-align: right;\n",
       "    }\n",
       "</style>\n",
       "<table border=\"1\" class=\"dataframe\">\n",
       "  <thead>\n",
       "    <tr style=\"text-align: right;\">\n",
       "      <th></th>\n",
       "      <th>id</th>\n",
       "      <th>alias</th>\n",
       "      <th>name</th>\n",
       "      <th>image_url</th>\n",
       "      <th>is_closed</th>\n",
       "      <th>url</th>\n",
       "      <th>review_count</th>\n",
       "      <th>categories</th>\n",
       "      <th>rating</th>\n",
       "      <th>coordinates</th>\n",
       "      <th>transactions</th>\n",
       "      <th>price</th>\n",
       "      <th>location</th>\n",
       "      <th>phone</th>\n",
       "      <th>display_phone</th>\n",
       "      <th>distance</th>\n",
       "    </tr>\n",
       "  </thead>\n",
       "  <tbody>\n",
       "    <tr>\n",
       "      <th>998</th>\n",
       "      <td>hozRG5xN_EhFhk74guegaQ</td>\n",
       "      <td>ilsong-garden-san-antonio</td>\n",
       "      <td>Ilsong Garden</td>\n",
       "      <td>https://s3-media4.fl.yelpcdn.com/bphoto/w0mS4G...</td>\n",
       "      <td>False</td>\n",
       "      <td>https://www.yelp.com/biz/ilsong-garden-san-ant...</td>\n",
       "      <td>264</td>\n",
       "      <td>[{'alias': 'korean', 'title': 'Korean'}, {'ali...</td>\n",
       "      <td>3.5</td>\n",
       "      <td>{'latitude': 29.518654, 'longitude': -98.508094}</td>\n",
       "      <td>[pickup, delivery]</td>\n",
       "      <td>$$</td>\n",
       "      <td>{'address1': '6905 Blanco Rd', 'address2': '',...</td>\n",
       "      <td>+12103664508</td>\n",
       "      <td>(210) 366-4508</td>\n",
       "      <td>2761.036950</td>\n",
       "    </tr>\n",
       "    <tr>\n",
       "      <th>999</th>\n",
       "      <td>v5HC8v2mOtQxRiwY_i4Wkw</td>\n",
       "      <td>taco-cabana-san-antonio-3</td>\n",
       "      <td>Taco Cabana</td>\n",
       "      <td>https://s3-media1.fl.yelpcdn.com/bphoto/04aEnM...</td>\n",
       "      <td>False</td>\n",
       "      <td>https://www.yelp.com/biz/taco-cabana-san-anton...</td>\n",
       "      <td>56</td>\n",
       "      <td>[{'alias': 'mexican', 'title': 'Mexican'}]</td>\n",
       "      <td>3.0</td>\n",
       "      <td>{'latitude': 29.4662, 'longitude': -98.49902}</td>\n",
       "      <td>[pickup, delivery]</td>\n",
       "      <td>$</td>\n",
       "      <td>{'address1': '3310 San Pedro Ave', 'address2':...</td>\n",
       "      <td>+12107339332</td>\n",
       "      <td>(210) 733-9332</td>\n",
       "      <td>3470.458937</td>\n",
       "    </tr>\n",
       "  </tbody>\n",
       "</table>\n",
       "</div>"
      ],
      "text/plain": [
       "                         id                      alias           name  \\\n",
       "998  hozRG5xN_EhFhk74guegaQ  ilsong-garden-san-antonio  Ilsong Garden   \n",
       "999  v5HC8v2mOtQxRiwY_i4Wkw  taco-cabana-san-antonio-3    Taco Cabana   \n",
       "\n",
       "                                             image_url  is_closed  \\\n",
       "998  https://s3-media4.fl.yelpcdn.com/bphoto/w0mS4G...      False   \n",
       "999  https://s3-media1.fl.yelpcdn.com/bphoto/04aEnM...      False   \n",
       "\n",
       "                                                   url  review_count  \\\n",
       "998  https://www.yelp.com/biz/ilsong-garden-san-ant...           264   \n",
       "999  https://www.yelp.com/biz/taco-cabana-san-anton...            56   \n",
       "\n",
       "                                            categories  rating  \\\n",
       "998  [{'alias': 'korean', 'title': 'Korean'}, {'ali...     3.5   \n",
       "999         [{'alias': 'mexican', 'title': 'Mexican'}]     3.0   \n",
       "\n",
       "                                          coordinates        transactions  \\\n",
       "998  {'latitude': 29.518654, 'longitude': -98.508094}  [pickup, delivery]   \n",
       "999     {'latitude': 29.4662, 'longitude': -98.49902}  [pickup, delivery]   \n",
       "\n",
       "    price                                           location         phone  \\\n",
       "998    $$  {'address1': '6905 Blanco Rd', 'address2': '',...  +12103664508   \n",
       "999     $  {'address1': '3310 San Pedro Ave', 'address2':...  +12107339332   \n",
       "\n",
       "      display_phone     distance  \n",
       "998  (210) 366-4508  2761.036950  \n",
       "999  (210) 733-9332  3470.458937  "
      ]
     },
     "metadata": {},
     "output_type": "display_data"
    }
   ],
   "source": [
    "# Load in final results\n",
    "final_df = pd.read_json(JSON_FILE)\n",
    "display(final_df.head(2), final_df.tail(2))"
   ]
  },
  {
   "cell_type": "code",
   "execution_count": 9,
   "id": "57f27017",
   "metadata": {},
   "outputs": [
    {
     "data": {
      "text/plain": [
       "0"
      ]
     },
     "execution_count": 9,
     "metadata": {},
     "output_type": "execute_result"
    }
   ],
   "source": [
    "# Check for and remove any duplicates\n",
    "final_df.duplicated(subset='id').sum()"
   ]
  },
  {
   "cell_type": "code",
   "execution_count": 10,
   "id": "869b83c3",
   "metadata": {},
   "outputs": [],
   "source": [
    "# Save the final results to a compressed csv\n",
    "final_df.to_csv('Data/final_results_SA_pizza.csv.gz', compression='gzip', index=False)"
   ]
  },
  {
   "cell_type": "code",
   "execution_count": null,
   "id": "af2a056b",
   "metadata": {},
   "outputs": [],
   "source": []
  },
  {
   "cell_type": "code",
   "execution_count": null,
   "id": "441db306",
   "metadata": {},
   "outputs": [],
   "source": []
  },
  {
   "cell_type": "code",
   "execution_count": null,
   "id": "c5061d80",
   "metadata": {},
   "outputs": [],
   "source": []
  },
  {
   "cell_type": "code",
   "execution_count": null,
   "id": "4116426f",
   "metadata": {},
   "outputs": [],
   "source": []
  },
  {
   "cell_type": "code",
   "execution_count": null,
   "id": "d38110db",
   "metadata": {},
   "outputs": [],
   "source": []
  },
  {
   "cell_type": "code",
   "execution_count": null,
   "id": "5cbeb0a3",
   "metadata": {},
   "outputs": [],
   "source": []
  }
 ],
 "metadata": {
  "kernelspec": {
   "display_name": "Python (dojo-env)",
   "language": "python",
   "name": "dojo-env"
  },
  "language_info": {
   "codemirror_mode": {
    "name": "ipython",
    "version": 3
   },
   "file_extension": ".py",
   "mimetype": "text/x-python",
   "name": "python",
   "nbconvert_exporter": "python",
   "pygments_lexer": "ipython3",
   "version": "3.9.15"
  },
  "toc": {
   "base_numbering": 1,
   "nav_menu": {},
   "number_sections": false,
   "sideBar": true,
   "skip_h1_title": false,
   "title_cell": "Table of Contents",
   "title_sidebar": "Contents",
   "toc_cell": false,
   "toc_position": {},
   "toc_section_display": true,
   "toc_window_display": false
  }
 },
 "nbformat": 4,
 "nbformat_minor": 5
}
