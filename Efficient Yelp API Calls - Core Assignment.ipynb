{
 "cells": [
  {
   "cell_type": "markdown",
   "id": "5de4a5ec",
   "metadata": {},
   "source": [
    "# Efficient Yelp API Calls - Core Assignment"
   ]
  },
  {
   "cell_type": "markdown",
   "id": "885d09f5",
   "metadata": {},
   "source": [
    "## Imports"
   ]
  },
  {
   "cell_type": "code",
   "execution_count": 1,
   "id": "03ce7de6",
   "metadata": {},
   "outputs": [],
   "source": [
    "# Standard Imports\n",
    "import numpy as np\n",
    "import pandas as pd\n",
    "# Additional Imports\n",
    "import os, json, math, time\n",
    "from yelpapi import YelpAPI\n",
    "from tqdm.notebook import tqdm_notebook"
   ]
  },
  {
   "cell_type": "code",
   "execution_count": 2,
   "id": "fa76fdc7",
   "metadata": {},
   "outputs": [
    {
     "data": {
      "text/plain": [
       "dict_keys(['client-id', 'api-key'])"
      ]
     },
     "execution_count": 2,
     "metadata": {},
     "output_type": "execute_result"
    }
   ],
   "source": [
    "with open('/Users/klein/.secret/yelp_api.json') as f:\n",
    "    login = json.load(f)\n",
    "login.keys()"
   ]
  },
  {
   "cell_type": "code",
   "execution_count": 3,
   "id": "3bc70654",
   "metadata": {},
   "outputs": [
    {
     "data": {
      "text/plain": [
       "<yelpapi.yelpapi.YelpAPI at 0x22f892fc6d0>"
      ]
     },
     "execution_count": 3,
     "metadata": {},
     "output_type": "execute_result"
    }
   ],
   "source": [
    "yelp_api = YelpAPI(login['api-key'], timeout_s=5.0)\n",
    "yelp_api"
   ]
  },
  {
   "cell_type": "code",
   "execution_count": 4,
   "id": "003b5933",
   "metadata": {},
   "outputs": [],
   "source": [
    "def create_json_file(JSON_FILE, delete_if_exists=False):\n",
    "\n",
    "    ## Check if JSON_FILE exists\n",
    "    file_exists = os.path.isfile(JSON_FILE)\n",
    "\n",
    "    # If file DOES exist:\n",
    "    if file_exists == True:\n",
    "\n",
    "        # Check if user wants to delete is exists\n",
    "        if delete_if_exists==True:\n",
    "\n",
    "            print(f'[!] {JSON_FILE} already exists. Deleting previous file...')\n",
    "            # Delete file and confirm it no longer exists\n",
    "            os.remove(JSON_FILE)\n",
    "            # recursive call to function after old file deleted\n",
    "            create_json_file(JSON_FILE, delete_if_exists=False)\n",
    "        else:\n",
    "            print(f'[i] {JSON_FILE} already exists.')\n",
    "\n",
    "    # If file does NOT exist:\n",
    "    else:\n",
    "\n",
    "        # Inform user and save empty list\n",
    "        print(f'[i] {JSON_FILE} not found. Saving empty list to new file.')\n",
    "\n",
    "        ## Create any needed folders\n",
    "        # Get folder name only\n",
    "        folder = os.path.dirname(JSON_FILE)\n",
    "\n",
    "        # If JSON_FILE included a folder\n",
    "        if len(folder)>0:\n",
    "            # Create the folder\n",
    "            os.makedirs(folder, exist_ok=True)\n",
    "        # Save empty list to start the json file\n",
    "        with open(JSON_FILE, 'w') as f:\n",
    "            json.dump([], f)"
   ]
  },
  {
   "cell_type": "code",
   "execution_count": 5,
   "id": "9413b07a",
   "metadata": {},
   "outputs": [],
   "source": [
    "# Specify JSON_FILE filename\n",
    "# Include search terms in the filename\n",
    "JSON_FILE = 'Data/results_in_progress_SA_pizza.json'\n",
    "\n",
    "# Set API call parameters\n",
    "LOCATION = 'San Antonio, TX'\n",
    "TERM = 'Pizza'"
   ]
  },
  {
   "cell_type": "code",
   "execution_count": 6,
   "id": "0c887fd9",
   "metadata": {},
   "outputs": [
    {
     "name": "stdout",
     "output_type": "stream",
     "text": [
      "[!] Data/results_in_progress_SA_pizza.json already exists. Deleting previous file...\n",
      "[i] Data/results_in_progress_SA_pizza.json not found. Saving empty list to new file.\n",
      "- 0 previous results found.\n",
      "There were 1300 total results found, including any duplicates.\n",
      "We would need 65 pages to display all results.\n"
     ]
    }
   ],
   "source": [
    "# Create a new empty json file (explicitly delete the previous if it exists)\n",
    "create_json_file(JSON_FILE, delete_if_exists=True)\n",
    "# Load previous results (should now be zero) and use len of results for offset\n",
    "with open(JSON_FILE, 'r') as f:\n",
    "    previous_results = json.load(f)\n",
    "\n",
    "# Set offset based on previous results\n",
    "n_results = len(previous_results) # Use this for the offset\n",
    "print(f'- {n_results} previous results found.')\n",
    "\n",
    "## Performing the API call\n",
    "# Use our yelp_api variable's search_query method to perform our API call\n",
    "results = yelp_api.search_query(location=LOCATION,\n",
    "                                term=TERM,\n",
    "                                offset=n_results)\n",
    "# How many results in total?\n",
    "total_results = results['total']\n",
    "print(f'There were {total_results} total results found, including any duplicates.') \n",
    "# There should be zero results at this point, as we have a fresh file.\n",
    "\n",
    "# How many results did we get details for in a single page?\n",
    "results_per_page = len(results['businesses'])\n",
    "# Use math.ceil to round up for the total required number of pages of results\n",
    "n_pages = math.ceil((results['total'] - n_results) / results_per_page)\n",
    "print(f'We would need {n_pages} pages to display all results.')"
   ]
  },
  {
   "cell_type": "code",
   "execution_count": null,
   "id": "3d531f65",
   "metadata": {},
   "outputs": [
    {
     "data": {
      "application/vnd.jupyter.widget-view+json": {
       "model_id": "92c0d54dc35248e680a29945fbf0d895",
       "version_major": 2,
       "version_minor": 0
      },
      "text/plain": [
       "  0%|          | 0/65 [00:00<?, ?it/s]"
      ]
     },
     "metadata": {},
     "output_type": "display_data"
    }
   ],
   "source": [
    "for i in tqdm_notebook(range(1, n_pages+1)):\n",
    "\n",
    "    ## PROGRESS OF QUERY SO FAR\n",
    "    # Read in results in progess file and check length\n",
    "    with open(JSON_FILE, 'r') as f:\n",
    "        previous_results = json.load(f)\n",
    "    # Save number of results to use as offset\n",
    "    n_results = len(previous_results)\n",
    "    # Stop query if it would cause an error\n",
    "    if (n_results + results_per_page) > 1000:\n",
    "        print('Exceeded 1000 api calls. Stopping loop.')\n",
    "        break\n",
    "\n",
    "    ## ADDING TO FILE WITH NEXT PAGE OF QUERY RESULTS\n",
    "    # Use n_results as the offset\n",
    "    results = yelp_api.search_query(location=LOCATION,\n",
    "                                    term=TERM,\n",
    "                                    offset=n_results)\n",
    "    # Append new results and save to file\n",
    "    previous_results.extend(results['businesses'])\n",
    "    # Display previous_results\n",
    "    with open(JSON_FILE, 'w') as f:\n",
    "        json.dump(previous_results, f)\n",
    "\n",
    "    time.sleep(0.1)"
   ]
  },
  {
   "cell_type": "code",
   "execution_count": null,
   "id": "420690a7",
   "metadata": {},
   "outputs": [],
   "source": [
    "# Load in final results\n",
    "final_df = pd.read_json(JSON_FILE)\n",
    "display(final_df.head(2), final_df.tail(2))"
   ]
  },
  {
   "cell_type": "code",
   "execution_count": null,
   "id": "57491274",
   "metadata": {},
   "outputs": [],
   "source": [
    "# Check for and remove any duplicates\n",
    "final_df.duplicated(subset='id').sum()"
   ]
  },
  {
   "cell_type": "code",
   "execution_count": null,
   "id": "5f3c4242",
   "metadata": {},
   "outputs": [],
   "source": [
    "# Save the final results to a compressed csv\n",
    "final_df.to_csv('Data/final_results_SA_pizza.csv.gz', compression='gzip', index=False)"
   ]
  },
  {
   "cell_type": "code",
   "execution_count": null,
   "id": "a69daf56",
   "metadata": {},
   "outputs": [],
   "source": []
  },
  {
   "cell_type": "code",
   "execution_count": null,
   "id": "86bc5f24",
   "metadata": {},
   "outputs": [],
   "source": []
  },
  {
   "cell_type": "code",
   "execution_count": null,
   "id": "df8322e7",
   "metadata": {},
   "outputs": [],
   "source": []
  },
  {
   "cell_type": "code",
   "execution_count": null,
   "id": "0cdb61d8",
   "metadata": {},
   "outputs": [],
   "source": []
  },
  {
   "cell_type": "code",
   "execution_count": null,
   "id": "88b61f6b",
   "metadata": {},
   "outputs": [],
   "source": []
  },
  {
   "cell_type": "code",
   "execution_count": null,
   "id": "278689cb",
   "metadata": {},
   "outputs": [],
   "source": []
  }
 ],
 "metadata": {
  "kernelspec": {
   "display_name": "Python (dojo-env)",
   "language": "python",
   "name": "dojo-env"
  },
  "language_info": {
   "codemirror_mode": {
    "name": "ipython",
    "version": 3
   },
   "file_extension": ".py",
   "mimetype": "text/x-python",
   "name": "python",
   "nbconvert_exporter": "python",
   "pygments_lexer": "ipython3",
   "version": "3.9.15"
  },
  "toc": {
   "base_numbering": 1,
   "nav_menu": {},
   "number_sections": false,
   "sideBar": true,
   "skip_h1_title": false,
   "title_cell": "Table of Contents",
   "title_sidebar": "Contents",
   "toc_cell": false,
   "toc_position": {},
   "toc_section_display": true,
   "toc_window_display": false
  }
 },
 "nbformat": 4,
 "nbformat_minor": 5
}
